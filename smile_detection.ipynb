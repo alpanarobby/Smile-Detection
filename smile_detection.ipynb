{
 "cells": [
  {
   "cell_type": "code",
   "execution_count": 1,
   "id": "e035ad0e-fc2c-43d7-bf02-c7c433da0102",
   "metadata": {},
   "outputs": [
    {
     "name": "stdout",
     "output_type": "stream",
     "text": [
      "Defaulting to user installation because normal site-packages is not writeable\n",
      "Requirement already satisfied: opencv-python in c:\\users\\alpan\\appdata\\roaming\\python\\python313\\site-packages (4.11.0.86)\n",
      "Requirement already satisfied: numpy>=1.21.2 in c:\\users\\alpan\\appdata\\roaming\\python\\python313\\site-packages (from opencv-python) (2.2.3)\n",
      "Note: you may need to restart the kernel to use updated packages.\n"
     ]
    }
   ],
   "source": [
    "pip install opencv-python"
   ]
  },
  {
   "cell_type": "code",
   "execution_count": 2,
   "id": "58fbc8cf-a863-4130-8aed-b226fe576ff5",
   "metadata": {},
   "outputs": [],
   "source": [
    "import cv2\n",
    "import os"
   ]
  },
  {
   "cell_type": "code",
   "execution_count": 3,
   "id": "a1ab80a6-1b3d-4c53-8eab-2c20de00f32f",
   "metadata": {},
   "outputs": [],
   "source": [
    "# Define paths for Haarcascade XML files\n",
    "cascade_path_face = \"haarcascade_frontalface_default.xml\"\n",
    "cascade_path_smile = \"haarcascade_smile.xml\"\n",
    "\n",
    "# Load Haar cascades for face and smile detection\n",
    "cascade_face = cv2.CascadeClassifier(cascade_path_face)\n",
    "cascade_smile = cv2.CascadeClassifier(cascade_path_smile)"
   ]
  },
  {
   "cell_type": "code",
   "execution_count": 4,
   "id": "2403312b-290e-4cff-afd6-aff12d175ab0",
   "metadata": {},
   "outputs": [],
   "source": [
    "# Initialize webcam capture\n",
    "cap = cv2.VideoCapture(0)"
   ]
  },
  {
   "cell_type": "code",
   "execution_count": null,
   "id": "f5887d1a-5bea-4737-a2c3-790362c78253",
   "metadata": {},
   "outputs": [],
   "source": [
    "while True: \n",
    "    ret,img = cap.read() \n",
    "    g = cv2.cvtColor(img, cv2.COLOR_BGR2GRAY)\n",
    "    g = cv2.equalizeHist(g)\n",
    "    ret, img = cap.read()\n",
    "\n",
    "    # Detect faces in the frame\n",
    "    f = cascade_face.detectMultiScale(\n",
    "        g,\n",
    "        scaleFactor = 1.1,\n",
    "        minNeighbors = 7,\n",
    "        minSize = (40,40),\n",
    "    )\n",
    "\n",
    "    # Loop through detected faces\n",
    "    for (x,y,w,h) in f:\n",
    "        cv2.rectangle(img, (x,y), (x+w, y+h), (255,0,0), 2)\n",
    "        gray_r = g[y:y+h, x:x+w]\n",
    "\n",
    "        # Detect smiles within the detected face\n",
    "        s = cascade_smile.detectMultiScale(\n",
    "            gray_r,\n",
    "            scaleFactor = 1.6,\n",
    "            minNeighbors = 25,\n",
    "            minSize = (35,35),\n",
    "        )\n",
    "\n",
    "        # If a smile is detected, display \"SMILING\" on the screen\n",
    "        for i in s:\n",
    "            if len(s) > 1:\n",
    "                cv2.putText(img, \"SMILING\", (x,y - 30),\n",
    "                            cv2.FONT_HERSHEY_SIMPLEX, 2, (0,255,0),\n",
    "                            3, cv2.LINE_AA)\n",
    "\n",
    "    # Display the video stream with detections\n",
    "    cv2.imshow('video', img)\n",
    "    k = cv2.waitKey(30) & 0xff\n",
    "\n",
    "    # Press 'Esc' key (ASCII 27) to exit the loop\n",
    "    if k==27:\n",
    "        break\n",
    "\n",
    "# Release the webcam and close OpenCV windows\n",
    "cap.release()\n",
    "cv2.destroyAllWindows()"
   ]
  }
 ],
 "metadata": {
  "kernelspec": {
   "display_name": "Python 3 (ipykernel)",
   "language": "python",
   "name": "python3"
  },
  "language_info": {
   "codemirror_mode": {
    "name": "ipython",
    "version": 3
   },
   "file_extension": ".py",
   "mimetype": "text/x-python",
   "name": "python",
   "nbconvert_exporter": "python",
   "pygments_lexer": "ipython3",
   "version": "3.13.1"
  }
 },
 "nbformat": 4,
 "nbformat_minor": 5
}
